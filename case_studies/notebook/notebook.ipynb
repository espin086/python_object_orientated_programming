{
 "cells": [
  {
   "cell_type": "markdown",
   "metadata": {},
   "source": [
    "# Notebook "
   ]
  },
  {
   "cell_type": "code",
   "execution_count": 2,
   "metadata": {},
   "outputs": [],
   "source": [
    "#store the next available id for all new notes\n",
    "import datetime\n",
    "last_id = 0"
   ]
  },
  {
   "cell_type": "markdown",
   "metadata": {},
   "source": [
    "## Note Class"
   ]
  },
  {
   "cell_type": "code",
   "execution_count": 4,
   "metadata": {},
   "outputs": [],
   "source": [
    "class Note:\n",
    "    '''Represents a note in a notebook. Match against a string of searches\n",
    "    and store tags for each note'''\n",
    "    \n",
    "    def __init__(self, memo, tags=''):\n",
    "        '''iniitialize a note with memo and optional space-separated tags. \n",
    "        Automatically set the note's creation date and unique id.'''\n",
    "        self.memo = memo\n",
    "        self.tags = tags\n",
    "        self.creation_date = datetime.date.today()\n",
    "        global last_id\n",
    "        last_id += 1\n",
    "        self.id = last_id\n",
    "        \n",
    "    def match(self, filter):\n",
    "        '''Determine if this note matches the filter\n",
    "        text. Return True if it matches, False otherwise\n",
    "        \n",
    "        Search is case sensitive and matches both text and tags.\n",
    "        '''\n",
    "        return filter in self.memo or filter in self.tags\n",
    "        "
   ]
  },
  {
   "cell_type": "markdown",
   "metadata": {},
   "source": [
    "## Notebook Class"
   ]
  },
  {
   "cell_type": "code",
   "execution_count": 9,
   "metadata": {},
   "outputs": [],
   "source": [
    "class Notebook:\n",
    "    '''Represents a collection of notes that can be tagged, modified, and searched'''\n",
    "    \n",
    "    def __init__(self):\n",
    "        '''Initialize a notebook with an empty list.'''\n",
    "        self.notes = []\n",
    "        \n",
    "    def new_note(self, memo, tags=''):\n",
    "        '''Create a new note and add it to the list.'''\n",
    "        self.notes.append(Note(memo, tags))\n",
    "        \n",
    "    def _find_note(self, note_id):\n",
    "        '''Locate the note with the given id.'''\n",
    "        for note in self.notes:\n",
    "            if note.id == note_id:\n",
    "                return note\n",
    "        return None\n",
    "        \n",
    "    def modify_memo(self, note_id, memo):\n",
    "        '''Find the note with the given id and change its memo to the given value'''\n",
    "        self._find_note(note_id).memo = memo\n",
    "        \n",
    "                \n",
    "    def modify_tags(self, note_id, tags):\n",
    "        '''find the note with the given id and change its tags to the given value'''\n",
    "        for note in self.notes:\n",
    "            if note.id == note_id:\n",
    "                note.tags = tags\n",
    "                break\n",
    "                \n",
    "    def search(self, filter):\n",
    "        '''Find all notes that match the given filter string.'''\n",
    "        return [note for note in self.notes if note.match(filter)]\n",
    "          "
   ]
  },
  {
   "cell_type": "markdown",
   "metadata": {},
   "source": [
    "### Convert to Python Executable"
   ]
  },
  {
   "cell_type": "code",
   "execution_count": 13,
   "metadata": {},
   "outputs": [
    {
     "name": "stdout",
     "output_type": "stream",
     "text": [
      "[TerminalIPythonApp] WARNING | Subcommand `ipython nbconvert` is deprecated and will be removed in future versions.\n",
      "[TerminalIPythonApp] WARNING | You likely want to use `jupyter nbconvert` in the future\n",
      "[NbConvertApp] Converting notebook notebook.ipynb to python\n",
      "[NbConvertApp] Writing 2313 bytes to notebook.py\n"
     ]
    }
   ],
   "source": [
    "#!ipython nbconvert --to=python notebook.ipynb"
   ]
  },
  {
   "cell_type": "code",
   "execution_count": null,
   "metadata": {},
   "outputs": [],
   "source": []
  }
 ],
 "metadata": {
  "kernelspec": {
   "display_name": "Python 3",
   "language": "python",
   "name": "python3"
  },
  "language_info": {
   "codemirror_mode": {
    "name": "ipython",
    "version": 3
   },
   "file_extension": ".py",
   "mimetype": "text/x-python",
   "name": "python",
   "nbconvert_exporter": "python",
   "pygments_lexer": "ipython3",
   "version": "3.7.0"
  }
 },
 "nbformat": 4,
 "nbformat_minor": 2
}
