{
 "cells": [
  {
   "cell_type": "markdown",
   "metadata": {},
   "source": [
    "# Menu"
   ]
  },
  {
   "cell_type": "markdown",
   "metadata": {},
   "source": [
    "A menu interface that presents a menu and allows the user to input choices."
   ]
  },
  {
   "cell_type": "code",
   "execution_count": 1,
   "metadata": {},
   "outputs": [],
   "source": [
    "import sys\n",
    "from notebook import Notebook, Note"
   ]
  },
  {
   "cell_type": "code",
   "execution_count": 4,
   "metadata": {},
   "outputs": [],
   "source": [
    "class Menu:\n",
    "    '''Displays a menu and respond to choices when run.'''\n",
    "    def __init__(self):\n",
    "        self.notebook = Notebook()\n",
    "        self.choices = {\n",
    "            \"1\": self.show_notes,\n",
    "            \"2\": self.search_notes,\n",
    "            \"3\": self.add_note,\n",
    "            \"4\": self.modify_note,\n",
    "            \"5\": self.quit\n",
    "        }\n",
    "        \n",
    "    def display_menu(self):\n",
    "        print(\"\"\"\n",
    "Notebook Menu\n",
    "\n",
    "1. Show all Notes\n",
    "2. Search Notes\n",
    "3. Add Note\n",
    "4. Modify Note\n",
    "5. Quit\n",
    "\"\"\")\n",
    "        \n",
    "    def run(self):\n",
    "        '''Display the menu and respond to choices.'''\n",
    "        while True:\n",
    "            self.display_menu()\n",
    "            choice = input(\"Enter an option: \")\n",
    "            action = self.choices.get(choice)\n",
    "            if action:\n",
    "                action()\n",
    "            else:\n",
    "                print(\"{0} is not a valid choice\".format(choice))\n",
    "                \n",
    "    def show_notes(self, notes=None):\n",
    "        if not notes:\n",
    "            notes = self.notebook.notes\n",
    "            for note in notes:\n",
    "                print(\"{0}: {1}\\n{2}\".format(\n",
    "                note.id, note.tags, note.memo))\n",
    "                \n",
    "    def search_notes(self):\n",
    "        filter = input(\"Search for: \")\n",
    "        notes = self.notebook.search(filter)\n",
    "        self.show_notes(notes)\n",
    "        \n",
    "    def add_note(self):\n",
    "        memo = input(\"Enter a memo: \")\n",
    "        self.notebook.new_note(memo)\n",
    "        print('Your note has been added.')\n",
    "        \n",
    "    def modify_note(self):\n",
    "        id = input(\"Enter a note id: \")\n",
    "        memo = input(\"Enter a memo: \")\n",
    "        tags = input(\"Enter tags: \")\n",
    "        if memo:\n",
    "            self.notebook.modify_memo(id, memo)\n",
    "        if tags:\n",
    "            self.notebook.modify_tags(id, tags)\n",
    "            \n",
    "    def quit(self):\n",
    "        print(\"Thank you for using your notebook today.\")\n",
    "        sys.exit(0)\n",
    "        \n",
    "        "
   ]
  },
  {
   "cell_type": "code",
   "execution_count": 9,
   "metadata": {},
   "outputs": [
    {
     "name": "stdout",
     "output_type": "stream",
     "text": [
      "\n",
      "Notebook Menu\n",
      "\n",
      "1. Show all Notes\n",
      "2. Search Notes\n",
      "3. Add Note\n",
      "4. Modify Note\n",
      "5. Quit\n",
      "\n",
      "Enter an option: 1\n",
      "\n",
      "Notebook Menu\n",
      "\n",
      "1. Show all Notes\n",
      "2. Search Notes\n",
      "3. Add Note\n",
      "4. Modify Note\n",
      "5. Quit\n",
      "\n",
      "Enter an option: 2\n",
      "Search for: animals\n",
      "\n",
      "Notebook Menu\n",
      "\n",
      "1. Show all Notes\n",
      "2. Search Notes\n",
      "3. Add Note\n",
      "4. Modify Note\n",
      "5. Quit\n",
      "\n",
      "Enter an option: 3\n",
      "Enter a memo: \"Angela is pretty\"\n",
      "Your note has been added.\n",
      "\n",
      "Notebook Menu\n",
      "\n",
      "1. Show all Notes\n",
      "2. Search Notes\n",
      "3. Add Note\n",
      "4. Modify Note\n",
      "5. Quit\n",
      "\n",
      "Enter an option: 1\n",
      "1: \n",
      "\"Angela is pretty\"\n",
      "\n",
      "Notebook Menu\n",
      "\n",
      "1. Show all Notes\n",
      "2. Search Notes\n",
      "3. Add Note\n",
      "4. Modify Note\n",
      "5. Quit\n",
      "\n",
      "Enter an option: 2\n",
      "Search for: Angela\n",
      "\n",
      "Notebook Menu\n",
      "\n",
      "1. Show all Notes\n",
      "2. Search Notes\n",
      "3. Add Note\n",
      "4. Modify Note\n",
      "5. Quit\n",
      "\n",
      "Enter an option: 5\n",
      "Thank you for using your notebook today.\n"
     ]
    },
    {
     "ename": "SystemExit",
     "evalue": "0",
     "output_type": "error",
     "traceback": [
      "An exception has occurred, use %tb to see the full traceback.\n",
      "\u001b[0;31mSystemExit\u001b[0m\u001b[0;31m:\u001b[0m 0\n"
     ]
    },
    {
     "name": "stderr",
     "output_type": "stream",
     "text": [
      "/home/jj_espinoza_la/anaconda3/lib/python3.7/site-packages/IPython/core/interactiveshell.py:2969: UserWarning: To exit: use 'exit', 'quit', or Ctrl-D.\n",
      "  warn(\"To exit: use 'exit', 'quit', or Ctrl-D.\", stacklevel=1)\n"
     ]
    }
   ],
   "source": [
    "if __name__ == \"__main__\":\n",
    "    Menu().run()"
   ]
  },
  {
   "cell_type": "code",
   "execution_count": 10,
   "metadata": {},
   "outputs": [
    {
     "name": "stdout",
     "output_type": "stream",
     "text": [
      "[TerminalIPythonApp] WARNING | Subcommand `ipython nbconvert` is deprecated and will be removed in future versions.\n",
      "[TerminalIPythonApp] WARNING | You likely want to use `jupyter nbconvert` in the future\n",
      "[NbConvertApp] Converting notebook menu.ipynb to python\n",
      "[NbConvertApp] Writing 2126 bytes to menu.py\n"
     ]
    }
   ],
   "source": [
    "#!ipython nbconvert --to=python menu.ipynb"
   ]
  },
  {
   "cell_type": "code",
   "execution_count": null,
   "metadata": {},
   "outputs": [],
   "source": []
  }
 ],
 "metadata": {
  "kernelspec": {
   "display_name": "Python 3",
   "language": "python",
   "name": "python3"
  },
  "language_info": {
   "codemirror_mode": {
    "name": "ipython",
    "version": 3
   },
   "file_extension": ".py",
   "mimetype": "text/x-python",
   "name": "python",
   "nbconvert_exporter": "python",
   "pygments_lexer": "ipython3",
   "version": "3.7.0"
  }
 },
 "nbformat": 4,
 "nbformat_minor": 2
}
